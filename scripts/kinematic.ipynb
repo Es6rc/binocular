{
 "cells": [
  {
   "cell_type": "code",
   "execution_count": 3,
   "metadata": {},
   "outputs": [],
   "source": [
    "from sympy import *\n",
    "import math\n",
    "from IPython.display import Latex\n",
    "from kinematic import dhtf, rttf, latexmtx, invdhtf "
   ]
  },
  {
   "cell_type": "code",
   "execution_count": 4,
   "metadata": {},
   "outputs": [],
   "source": [
    "PI = math.pi\n",
    "\n",
    "theta2 = +0\n",
    "alpha2 = 0\n",
    "d2 = 0\n",
    "r2 = -.13691\n",
    "\n",
    "theta3 = -PI/2\n",
    "alpha3 = -PI/2\n",
    "d3 = .0535\n",
    "r3 = 0\n",
    "\n",
    "theta4 = 0\n",
    "alpha4 = 0\n",
    "d4 = .04435\n",
    "r4 = 0\n",
    "\n",
    "theta5 = theta2\n",
    "alpha5 = 0\n",
    "d5 = 0\n",
    "r5 = -r2\n",
    "\n",
    "theta6 = -PI/2\n",
    "alpha6 = -PI/2\n",
    "d6 = d3\n",
    "r6 = 0\n",
    "\n",
    "theta7 = 0\n",
    "alpha7 = 0\n",
    "d7 = -d4\n",
    "r7 = 0\n",
    "x4L = -.0218\n",
    "theta4L = -PI/2\n"
   ]
  },
  {
   "cell_type": "code",
   "execution_count": 5,
   "metadata": {
    "scrolled": true
   },
   "outputs": [
    {
     "name": "stdout",
     "output_type": "stream",
     "text": [
      "T12\n",
      "T21\n"
     ]
    },
    {
     "data": {
      "text/latex": [
       "\\begin{bmatrix}\\cos{\\left (t_{2} \\right )} & \\sin{\\left (t_{2} \\right )} & 0 & 0.13691\\\\- 1.0 \\sin{\\left (t_{2} \\right )} & 1.0 \\cos{\\left (t_{2} \\right )} & 0.0 & 0.0\\\\0 & 0 & 1.0 & 0.0\\\\0 & 0 & 0 & 1\\end{bmatrix}"
      ],
      "text/plain": [
       "<IPython.core.display.Latex object>"
      ]
     },
     "execution_count": 5,
     "metadata": {},
     "output_type": "execute_result"
    }
   ],
   "source": [
    "T12 = dhtf('symbolic', 2, alpha2, d2, r2, theta2)\n",
    "print('T12')\n",
    "Latex(latexmtx(T12))\n",
    "T21 = invdhtf('symbolic', 2, alpha2, d2, r2, theta2)\n",
    "print('T21')\n",
    "Latex(latexmtx(T21))"
   ]
  },
  {
   "cell_type": "code",
   "execution_count": 6,
   "metadata": {},
   "outputs": [
    {
     "name": "stdout",
     "output_type": "stream",
     "text": [
      "T23\n",
      "T32\n"
     ]
    },
    {
     "data": {
      "text/latex": [
       "\\begin{bmatrix}\\cos{\\left (t_{3} \\right )} & \\sin{\\left (t_{3} \\right )} & 0 & 0\\\\0 & 0 & -1.0 & 0.0535\\\\- 1.0 \\sin{\\left (t_{3} \\right )} & 1.0 \\cos{\\left (t_{3} \\right )} & 0.0 & 0.0\\\\0 & 0 & 0 & 1\\end{bmatrix}"
      ],
      "text/plain": [
       "<IPython.core.display.Latex object>"
      ]
     },
     "execution_count": 6,
     "metadata": {},
     "output_type": "execute_result"
    }
   ],
   "source": [
    "T23 = dhtf('symbolic', 3, alpha3, d3, r3, theta3)\n",
    "print(\"T23\")\n",
    "Latex(latexmtx(T23))\n",
    "T32 = invdhtf('symbolic', 3, alpha3, d3, r3, theta3)\n",
    "print(\"T32\")\n",
    "Latex(latexmtx(T32))"
   ]
  },
  {
   "cell_type": "code",
   "execution_count": 7,
   "metadata": {},
   "outputs": [
    {
     "name": "stdout",
     "output_type": "stream",
     "text": [
      "T34\n",
      "T43\n"
     ]
    },
    {
     "data": {
      "text/latex": [
       "\\begin{bmatrix}\\cos{\\left (t_{4} \\right )} & \\sin{\\left (t_{4} \\right )} & 0 & 0\\\\- 1.0 \\sin{\\left (t_{4} \\right )} & 1.0 \\cos{\\left (t_{4} \\right )} & 0.0 & 0.0\\\\0 & 0 & 1.0 & -0.04435\\\\0 & 0 & 0 & 1\\end{bmatrix}"
      ],
      "text/plain": [
       "<IPython.core.display.Latex object>"
      ]
     },
     "execution_count": 7,
     "metadata": {},
     "output_type": "execute_result"
    }
   ],
   "source": [
    "T34 = dhtf('symbolic', 4, alpha4, d4, r4, theta4)\n",
    "print('T34')\n",
    "Latex(latexmtx(T34))\n",
    "T43 = invdhtf('symbolic', 4, alpha4, d4, r4, theta4)\n",
    "print('T43')\n",
    "Latex(latexmtx(T43))"
   ]
  },
  {
   "cell_type": "code",
   "execution_count": 8,
   "metadata": {},
   "outputs": [
    {
     "name": "stdout",
     "output_type": "stream",
     "text": [
      "T4L\n"
     ]
    },
    {
     "data": {
      "text/latex": [
       "\\begin{bmatrix}0.0 & 0.0 & -1.0 & -0.0218\\\\0.0 & 1.0 & 0.0 & 0\\\\1.0 & 0.0 & 0.0 & 0\\\\0 & 0 & 0 & 1\\end{bmatrix}"
      ],
      "text/plain": [
       "<IPython.core.display.Latex object>"
      ]
     },
     "execution_count": 8,
     "metadata": {},
     "output_type": "execute_result"
    }
   ],
   "source": [
    "T4L = rttf(x4L, 0, 0, 0, theta4L, 0)\n",
    "print('T4L')\n",
    "Latex(latexmtx(T4L))\n"
   ]
  },
  {
   "cell_type": "code",
   "execution_count": 9,
   "metadata": {},
   "outputs": [
    {
     "name": "stdout",
     "output_type": "stream",
     "text": [
      "TL4\n"
     ]
    },
    {
     "data": {
      "text/latex": [
       "\\begin{bmatrix}0.0 & 0.0 & 1.0 & 0\\\\0.0 & 1.0 & 0.0 & 0\\\\-1.0 & 0.0 & 0.0 & -0.0218\\\\0 & 0 & 0 & 1\\end{bmatrix}"
      ],
      "text/plain": [
       "<IPython.core.display.Latex object>"
      ]
     },
     "execution_count": 9,
     "metadata": {},
     "output_type": "execute_result"
    }
   ],
   "source": [
    "TL4 = rttf(0, 0, x4L, 0, -theta4L, 0)\n",
    "print('TL4')\n",
    "Latex( latexmtx(TL4) )"
   ]
  },
  {
   "cell_type": "code",
   "execution_count": 10,
   "metadata": {},
   "outputs": [
    {
     "name": "stdout",
     "output_type": "stream",
     "text": [
      "T1L\n"
     ]
    },
    {
     "data": {
      "text/latex": [
       "\\begin{bmatrix}- 1.0 \\sin{\\left (t_{2} \\right )} \\cos{\\left (t_{3} \\right )} - 1.0 \\sin{\\left (t_{3} \\right )} \\cos{\\left (t_{2} \\right )} & - 1.0 \\left(- 1.0 \\sin{\\left (t_{2} \\right )} \\sin{\\left (t_{3} \\right )} + \\cos{\\left (t_{2} \\right )} \\cos{\\left (t_{3} \\right )}\\right) \\sin{\\left (t_{4} \\right )} & - 1.0 \\left(- 1.0 \\sin{\\left (t_{2} \\right )} \\sin{\\left (t_{3} \\right )} + \\cos{\\left (t_{2} \\right )} \\cos{\\left (t_{3} \\right )}\\right) \\cos{\\left (t_{4} \\right )} & - 0.0218 \\left(- 1.0 \\sin{\\left (t_{2} \\right )} \\sin{\\left (t_{3} \\right )} + \\cos{\\left (t_{2} \\right )} \\cos{\\left (t_{3} \\right )}\\right) \\cos{\\left (t_{4} \\right )} - 0.04435 \\sin{\\left (t_{2} \\right )} \\cos{\\left (t_{3} \\right )} - 0.04435 \\sin{\\left (t_{3} \\right )} \\cos{\\left (t_{2} \\right )} - 0.13691 \\cos{\\left (t_{2} \\right )}\\\\- 1.0 \\sin{\\left (t_{2} \\right )} \\sin{\\left (t_{3} \\right )} + 1.0 \\cos{\\left (t_{2} \\right )} \\cos{\\left (t_{3} \\right )} & - 1.0 \\left(\\sin{\\left (t_{2} \\right )} \\cos{\\left (t_{3} \\right )} + 1.0 \\sin{\\left (t_{3} \\right )} \\cos{\\left (t_{2} \\right )}\\right) \\sin{\\left (t_{4} \\right )} & - 1.0 \\left(\\sin{\\left (t_{2} \\right )} \\cos{\\left (t_{3} \\right )} + 1.0 \\sin{\\left (t_{3} \\right )} \\cos{\\left (t_{2} \\right )}\\right) \\cos{\\left (t_{4} \\right )} & - 0.0218 \\left(\\sin{\\left (t_{2} \\right )} \\cos{\\left (t_{3} \\right )} + 1.0 \\sin{\\left (t_{3} \\right )} \\cos{\\left (t_{2} \\right )}\\right) \\cos{\\left (t_{4} \\right )} - 0.04435 \\sin{\\left (t_{2} \\right )} \\sin{\\left (t_{3} \\right )} - 0.13691 \\sin{\\left (t_{2} \\right )} + 0.04435 \\cos{\\left (t_{2} \\right )} \\cos{\\left (t_{3} \\right )}\\\\0 & - 1.0 \\cos{\\left (t_{4} \\right )} & 1.0 \\sin{\\left (t_{4} \\right )} & 0.0218 \\sin{\\left (t_{4} \\right )} + 0.0535\\\\0 & 0 & 0 & 1\\end{bmatrix}"
      ],
      "text/plain": [
       "<IPython.core.display.Latex object>"
      ]
     },
     "execution_count": 10,
     "metadata": {},
     "output_type": "execute_result"
    }
   ],
   "source": [
    "T1L = T12 * T23 * T34 * T4L\n",
    "print(\"T1L\")\n",
    "Latex( latexmtx(T1L) )"
   ]
  },
  {
   "cell_type": "code",
   "execution_count": 12,
   "metadata": {
    "scrolled": false
   },
   "outputs": [
    {
     "name": "stdout",
     "output_type": "stream",
     "text": [
      "TL1\n"
     ]
    },
    {
     "data": {
      "text/latex": [
       "\\begin{bmatrix}- 1.0 \\sin{\\left (t_{2} \\right )} \\cos{\\left (t_{3} \\right )} - 1.0 \\sin{\\left (t_{3} \\right )} \\cos{\\left (t_{2} \\right )} & - 1.0 \\sin{\\left (t_{2} \\right )} \\sin{\\left (t_{3} \\right )} + 1.0 \\cos{\\left (t_{2} \\right )} \\cos{\\left (t_{3} \\right )} & 0 & - 0.13691 \\sin{\\left (t_{3} \\right )} - 0.04435\\\\1.0 \\sin{\\left (t_{2} \\right )} \\sin{\\left (t_{3} \\right )} \\sin{\\left (t_{4} \\right )} - 1.0 \\sin{\\left (t_{4} \\right )} \\cos{\\left (t_{2} \\right )} \\cos{\\left (t_{3} \\right )} & - 1.0 \\sin{\\left (t_{2} \\right )} \\sin{\\left (t_{4} \\right )} \\cos{\\left (t_{3} \\right )} - 1.0 \\sin{\\left (t_{3} \\right )} \\sin{\\left (t_{4} \\right )} \\cos{\\left (t_{2} \\right )} & - 1.0 \\cos{\\left (t_{4} \\right )} & - 0.13691 \\sin{\\left (t_{4} \\right )} \\cos{\\left (t_{3} \\right )} + 0.0535 \\cos{\\left (t_{4} \\right )}\\\\1.0 \\sin{\\left (t_{2} \\right )} \\sin{\\left (t_{3} \\right )} \\cos{\\left (t_{4} \\right )} - 1.0 \\cos{\\left (t_{2} \\right )} \\cos{\\left (t_{3} \\right )} \\cos{\\left (t_{4} \\right )} & - 1.0 \\sin{\\left (t_{2} \\right )} \\cos{\\left (t_{3} \\right )} \\cos{\\left (t_{4} \\right )} - 1.0 \\sin{\\left (t_{3} \\right )} \\cos{\\left (t_{2} \\right )} \\cos{\\left (t_{4} \\right )} & 1.0 \\sin{\\left (t_{4} \\right )} & - 0.0535 \\sin{\\left (t_{4} \\right )} - 0.13691 \\cos{\\left (t_{3} \\right )} \\cos{\\left (t_{4} \\right )} - 0.0218\\\\0 & 0 & 0 & 1\\end{bmatrix}"
      ],
      "text/plain": [
       "<IPython.core.display.Latex object>"
      ]
     },
     "execution_count": 12,
     "metadata": {},
     "output_type": "execute_result"
    }
   ],
   "source": [
    "TL1 = TL4 * T43 * T32 * T21\n",
    "print(\"TL1\")\n",
    "Latex( latexmtx(TL1) )"
   ]
  },
  {
   "cell_type": "code",
   "execution_count": null,
   "metadata": {},
   "outputs": [],
   "source": [
    " "
   ]
  }
 ],
 "metadata": {
  "kernelspec": {
   "display_name": "Python 3",
   "language": "python",
   "name": "python3"
  },
  "language_info": {
   "codemirror_mode": {
    "name": "ipython",
    "version": 3
   },
   "file_extension": ".py",
   "mimetype": "text/x-python",
   "name": "python",
   "nbconvert_exporter": "python",
   "pygments_lexer": "ipython3",
   "version": "3.5.2"
  }
 },
 "nbformat": 4,
 "nbformat_minor": 2
}
